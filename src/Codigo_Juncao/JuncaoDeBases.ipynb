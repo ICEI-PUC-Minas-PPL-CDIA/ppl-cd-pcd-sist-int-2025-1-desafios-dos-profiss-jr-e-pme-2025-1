{
  "nbformat": 4,
  "nbformat_minor": 0,
  "metadata": {
    "colab": {
      "provenance": []
    },
    "kernelspec": {
      "name": "python3",
      "display_name": "Python 3"
    },
    "language_info": {
      "name": "python"
    }
  },
  "cells": [
    {
      "cell_type": "code",
      "source": [
        "import pandas as pd\n",
        "\n",
        "# Carregar dados\n",
        "# Tenta carregar com utf-8, se falhar, tenta com 'latin-1'\n",
        "try:\n",
        "    df_ies = pd.read_csv('MICRODADOS_ED_SUP_IES_2023.CSV', sep=';', encoding='utf-8')\n",
        "except UnicodeDecodeError:\n",
        "    df_ies = pd.read_csv('MICRODADOS_ED_SUP_IES_2023.CSV', sep=';', encoding='latin-1')\n",
        "\n",
        "df_survey = pd.read_csv('State_of_data_BR_2023_Kaggle - df_survey_2023.csv', sep=',', encoding='utf-8')\n",
        "\n",
        "# ... (rest of the code remains the same)\n",
        "# Mapeamento e renomeação das colunas do survey\n",
        "rename_survey = {\n",
        "    \"('P1_a ', 'Idade')\": 'idade',\n",
        "    \"('P1_b ', 'Genero')\": 'genero',\n",
        "    \"('P1_c ', 'Cor/raca/etnia')\": 'cor_raca',\n",
        "    \"('P1_i_1 ', 'uf onde mora')\": 'SG_UF_IES',\n",
        "    \"('P1_l ', 'Nivel de Ensino')\": 'nivel_ensino',\n",
        "    \"('P2_a ', 'Qual sua situação atual de trabalho?')\": 'situacao_trabalho',\n",
        "    \"('P2_b ', 'Setor')\": 'setor',\n",
        "    \"('P2_c ', 'Numero de Funcionarios')\": 'tamanho_empresa',\n",
        "    \"('P2_f ', 'Cargo Atual')\": 'cargo',\n",
        "    \"('P2_g ', 'Nivel')\": 'nivel_cargo',\n",
        "    \"('P2_h ', 'Faixa salarial')\": 'faixa_salarial',\n",
        "    \"('P2_i ', 'Quanto tempo de experiência na área de dados você tem?')\": 'exp_dados',\n",
        "    \"('P2_j ', 'Quanto tempo de experiência na área de TI/Engenharia de Software você teve antes de começar a trabalhar na área de dados?')\": 'exp_ti',\n",
        "    \"('P2_k ', 'Você está satisfeito na sua empresa atual?')\": 'satisfacao',\n",
        "    \"('P2_l ', 'Qual o principal motivo da sua insatisfação com a empresa atual?')\": 'motivo_insatisfacao',\n",
        "    \"('P2_r ', 'Atualmente qual a sua forma de trabalho?')\": 'modelo_trabalho',\n",
        "    \"('P2_s ', 'Qual a forma de trabalho ideal para você?')\": 'modelo_ideal',\n",
        "    \"('P2_q ', 'Empresa que trabaha passou por layoff em 2023')\": 'layoff',\n",
        "    \"('P4_d_1 ', 'SQL')\": 'sql',\n",
        "    \"('P4_d_2 ', 'R ')\": 'r',\n",
        "    \"('P4_d_3 ', 'Python')\": 'python',\n",
        "    \"('P4_d_4 ', 'C/C++/C#')\": 'c_cpp_csharp',\n",
        "    \"('P4_d_5 ', '.NET')\": 'dotnet',\n",
        "    \"('P4_d_6 ', 'Java')\": 'java',\n",
        "    \"('P4_d_14 ', 'JavaScript')\": 'javascript',\n",
        "    \"('P4_g_12 ', 'PostgreSQL')\": 'postgresql',\n",
        "    \"('P4_g_22 ', 'Google BigQuery')\": 'bigquery',\n",
        "    \"('P4_g_26 ', 'Snowflake')\": 'snowflake',\n",
        "    \"('P4_g_27 ', 'Databricks')\": 'databricks',\n",
        "    \"('P4_h_1 ', 'Azure (Microsoft)')\": 'azure',\n",
        "    \"('P4_h_2 ', 'Amazon Web Services (AWS)')\": 'aws',\n",
        "    \"('P4_h_3 ', 'Google Cloud (GCP)')\": 'gcp',\n",
        "    \"('P4_j_1 ', 'Microsoft PowerBI')\": 'powerbi',\n",
        "    \"('P4_j_3 ', 'Tableau')\": 'tableau',\n",
        "    \"('P4_j_8 ', 'Looker Studio(Google Data Studio)')\": 'looker_studio',\n",
        "    \"('P4_j_22 ', 'Fazemos todas as análises utilizando apenas Excel ou planilhas do google')\": 'excel_planilhas'\n",
        "}\n",
        "\n",
        "# Renomear e selecionar colunas do survey\n",
        "df_survey = df_survey.rename(columns=rename_survey)\n",
        "selected_columns = [\n",
        "    'idade', 'genero', 'cor_raca', 'SG_UF_IES', 'nivel_ensino', 'situacao_trabalho',\n",
        "    'setor', 'tamanho_empresa', 'cargo', 'nivel_cargo', 'faixa_salarial', 'exp_dados',\n",
        "    'exp_ti', 'satisfacao', 'motivo_insatisfacao', 'modelo_trabalho', 'modelo_ideal',\n",
        "    'layoff', 'sql', 'r', 'python', 'c_cpp_csharp', 'dotnet', 'java', 'javascript',\n",
        "    'postgresql', 'bigquery', 'snowflake', 'databricks', 'azure', 'aws', 'gcp',\n",
        "    'powerbi', 'tableau', 'looker_studio', 'excel_planilhas'\n",
        "]\n",
        "df_survey = df_survey[selected_columns]\n",
        "\n",
        "# Salvar dataset final\n",
        "df_survey.to_csv('dados_selecionados.csv', index=False, encoding='utf-8')\n",
        "print(\"Dataset final salvo com sucesso!\")\n",
        "print(f\"Dimensões: {df_survey.shape}\")"
      ],
      "metadata": {
        "colab": {
          "base_uri": "https://localhost:8080/"
        },
        "id": "6H8iG3xwMO_y",
        "outputId": "e5bae339-2b8a-4dc5-825a-257f7c42d49f"
      },
      "execution_count": null,
      "outputs": [
        {
          "output_type": "stream",
          "name": "stdout",
          "text": [
            "Dataset final salvo com sucesso!\n",
            "Dimensões: (5293, 36)\n"
          ]
        }
      ]
    }
  ]
}
